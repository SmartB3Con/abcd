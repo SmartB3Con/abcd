{
 "cells": [
  {
   "cell_type": "code",
   "execution_count": 1,
   "id": "61b7106a",
   "metadata": {},
   "outputs": [
    {
     "name": "stdout",
     "output_type": "stream",
     "text": [
      "enter a number5\n",
      "Positive\n"
     ]
    }
   ],
   "source": [
    "num=int(input(\"enter a number\"))\n",
    "if num>0:\n",
    "    print(\"Positive\")\n",
    "elif num==0:\n",
    "    print(\"The number is zero\")\n",
    "else:\n",
    "    print(\"Negative\")"
   ]
  },
  {
   "cell_type": "code",
   "execution_count": 2,
   "id": "f64799f7",
   "metadata": {},
   "outputs": [
    {
     "name": "stdout",
     "output_type": "stream",
     "text": [
      "Enter a year2021\n",
      "It is not a leap year\n"
     ]
    }
   ],
   "source": [
    "num=int(input(\"Enter a year\"))\n",
    "if num%4==0 and year%100!=0:\n",
    "    print(\"It is a leap year\")\n",
    "else:\n",
    "    print(\"It is not a leap year\")"
   ]
  },
  {
   "cell_type": "code",
   "execution_count": 5,
   "id": "39e76e89",
   "metadata": {},
   "outputs": [
    {
     "name": "stdout",
     "output_type": "stream",
     "text": [
      "Enter a number5\n",
      "Enter a number6\n",
      "Enter a number7\n",
      "7\n"
     ]
    }
   ],
   "source": [
    "num1=int(input(\"Enter a number\"))\n",
    "num2=int(input(\"Enter a number\"))\n",
    "num3=int(input(\"Enter a number\"))\n",
    "if num1 >= num2 and num1 >= num3:\n",
    "  print(\"num1 is the greatest\")\n",
    "elif num2 >= num1 and num2 >= num3:\n",
    "  print(\"num2 is the greatest\")\n",
    "else:\n",
    "  print(\"num3 is the greatest\")"
   ]
  },
  {
   "cell_type": "code",
   "execution_count": 2,
   "id": "fc6eb056",
   "metadata": {},
   "outputs": [
    {
     "name": "stdout",
     "output_type": "stream",
     "text": [
      "Inegilible\n"
     ]
    }
   ],
   "source": [
    "age=int(input(\"enter age\"))\n",
    "if age>=18:\n",
    "    print(\"Eligible for voting\")\n",
    "else:\n",
    "    print(\"Inegilible\")"
   ]
  },
  {
   "cell_type": "code",
   "execution_count": null,
   "id": "1c1b3dd2",
   "metadata": {},
   "outputs": [],
   "source": [
    "side1=int(input(\"enter the length\"))\n",
    "side2=int(input(\"enter the length\"))\n",
    "side3=int(input(\"enter the length\"))\n",
    "if side1+side2+side3/3 == side1:\n",
    "    print(\"Equilateral Triangle\")\n",
    "elif side1==side2 and side3!=side2:\n",
    "    print(\"Isoceles triangle\")\n",
    "else:\n",
    "    print(\"scalene triangle\")"
   ]
  },
  {
   "cell_type": "code",
   "execution_count": 9,
   "id": "0f07c5d9",
   "metadata": {},
   "outputs": [
    {
     "name": "stdout",
     "output_type": "stream",
     "text": [
      "Would you like to convert from farenheit to celsius or celsius to fahrenheiht? Type C if you would like to convert celsius to fahrenheit or type F if you would like to convert fahrenheit to celsiusF\n",
      "Please enter temperature in fahrenheit/celsius:45\n",
      "Temperature in celsius:  7.222222222222222\n"
     ]
    }
   ],
   "source": [
    "inp=input(\"Would you like to convert from farenheit to celsius or celsius to fahrenheiht? Type C if you would like to convert celsius to fahrenheit or type F if you would like to convert fahrenheit to celsius\")\n",
    "temperature = float(input(\"Please enter temperature in fahrenheit/celsius:\"))\n",
    "if inp==\"F\":\n",
    "    celsius = (temperature - 32) * 5 / 9\n",
    "    print(\"Temperature in celsius: \" , celsius)\n",
    "elif inp==\"C\":\n",
    "    fahrenheit=temperature*1.8+32\n",
    "    print(\"Temperature in fahrenheit\", fahrenheit)\n",
    "else:\n",
    "    print(\"Please choose from C or F\")\n",
    "    "
   ]
  },
  {
   "cell_type": "code",
   "execution_count": null,
   "id": "a61c10d8",
   "metadata": {},
   "outputs": [],
   "source": [
    "grade=int(input(\"Input your grade\"))\n",
    "if grade>=90:\n",
    "    print(\"A\")\n",
    "elif grade>=80:\n",
    "    print(\"B\")\n",
    "elif grade>=70:\n",
    "    print(\"C\")\n",
    "elif grade>=60:\n",
    "    print(\"D\")\n",
    "else:\n",
    "    print(\"F\")"
   ]
  },
  {
   "cell_type": "code",
   "execution_count": 5,
   "id": "b1ed55bc",
   "metadata": {},
   "outputs": [
    {
     "name": "stdout",
     "output_type": "stream",
     "text": [
      "The number is divisible by 3\n"
     ]
    }
   ],
   "source": [
    "number=int(input(\"Enter a number\"))\n",
    "if number%3==0:\n",
    "    print(\"The number is divisible by 3\")\n",
    "    if number%5==0:\n",
    "        print(\"The number is divisible by both\")\n",
    "elif number%5==0:\n",
    "    print(\"The number is divisible by only 5\")\n",
    "else:\n",
    "    print(\"The number is divisible by none\")"
   ]
  }
 ],
 "metadata": {
  "kernelspec": {
   "display_name": "Python 3 (ipykernel)",
   "language": "python",
   "name": "python3"
  },
  "language_info": {
   "codemirror_mode": {
    "name": "ipython",
    "version": 3
   },
   "file_extension": ".py",
   "mimetype": "text/x-python",
   "name": "python",
   "nbconvert_exporter": "python",
   "pygments_lexer": "ipython3",
   "version": "3.11.0"
  }
 },
 "nbformat": 4,
 "nbformat_minor": 5
}
